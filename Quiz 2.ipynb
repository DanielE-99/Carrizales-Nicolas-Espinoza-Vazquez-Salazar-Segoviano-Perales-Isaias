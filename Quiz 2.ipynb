{
 "cells": [
  {
   "cell_type": "code",
   "execution_count": null,
   "metadata": {},
   "outputs": [],
   "source": [
    "V1= int(input(\"write the values: \"))\n",
    "v10= V1\n",
    "v11= 1\n",
    "v12= 1\n",
    "v3= 0\n",
    "v4= 0\n",
    "v6= 0\n",
    "v7= 0\n",
    "\n",
    "while v1> 1:\n",
    "    print(\" \")\n",
    "    print(\"Write the number of x: \",v11)\n",
    "    v2=int(input())\n",
    "    v3= v3 + v2\n",
    "    v7= v7 + (v2**2)\n",
    "    print(\"give the value of y:\", v11)\n",
    "    v22= int(input())\n",
    "    v4=v4+ v22\n",
    "    print (\" \")\n",
    "    print(\"---\")\n",
    "    v6=v6 + (v2 * v22)\n",
    "    v11= v11 + 1\n",
    "    v1= v1-1\n",
    "    v5= v3**2\n",
    "    O1= (((v10)*(v6))-((v3)*(v4))) / (((v10)*(v7))-((v3)**2))\n",
    "    SA=((v4)-((O1)*(v3)))/ (v10)\n",
    "    \n",
    "    print(\"ye\", O1, SA, \"+X\")\n",
    "    \n",
    "    \n",
    "\n",
    "\n"
   ]
  },
  {
   "cell_type": "code",
   "execution_count": null,
   "metadata": {},
   "outputs": [],
   "source": []
  },
  {
   "cell_type": "code",
   "execution_count": null,
   "metadata": {},
   "outputs": [],
   "source": []
  }
 ],
 "metadata": {
  "kernelspec": {
   "display_name": "Python 3",
   "language": "python",
   "name": "python3"
  },
  "language_info": {
   "codemirror_mode": {
    "name": "ipython",
    "version": 3
   },
   "file_extension": ".py",
   "mimetype": "text/x-python",
   "name": "python",
   "nbconvert_exporter": "python",
   "pygments_lexer": "ipython3",
   "version": "3.7.4"
  }
 },
 "nbformat": 4,
 "nbformat_minor": 2
}
